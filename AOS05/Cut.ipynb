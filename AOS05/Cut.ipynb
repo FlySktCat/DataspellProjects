{
 "cells": [
  {
   "cell_type": "code",
   "execution_count": 16,
   "id": "initial_id",
   "metadata": {
    "ExecuteTime": {
     "end_time": "2023-11-19T18:30:38.975081700Z",
     "start_time": "2023-11-19T18:30:38.969250300Z"
    },
    "collapsed": true
   },
   "outputs": [
    {
     "data": {
      "text/plain": [
       "515.3095238095237"
      ]
     },
     "execution_count": 16,
     "metadata": {},
     "output_type": "execute_result"
    }
   ],
   "source": [
    "import numpy as np\n",
    "from scipy.optimize import linprog\n",
    "\n",
    "c = np.array([1,1,1,1])\n",
    "A_ub = np.array([[-2,0,0,0],\n",
    "                 [0,-2,0,0],\n",
    "                 [0,0,-3,0],\n",
    "                 [0,0,0,-7]])\n",
    "b_ub = np.array([-97,-610,-395,-211])\n",
    "\n",
    "res = linprog(c=c,A_ub=A_ub,b_ub=b_ub)\n",
    "res.fun"
   ]
  },
  {
   "cell_type": "code",
   "execution_count": 17,
   "id": "417f83b5ef3374c8",
   "metadata": {
    "ExecuteTime": {
     "end_time": "2023-11-19T18:30:38.983838200Z",
     "start_time": "2023-11-19T18:30:38.973081700Z"
    },
    "collapsed": false
   },
   "outputs": [
    {
     "data": {
      "text/plain": [
       "array([0.5       , 0.5       , 0.33333333, 0.14285714])"
      ]
     },
     "execution_count": 17,
     "metadata": {},
     "output_type": "execute_result"
    }
   ],
   "source": [
    "dual_c = b_ub\n",
    "dual_b = c\n",
    "dual_A = -A_ub.T\n",
    "res_dual = linprog(c=dual_c,A_ub=dual_A,b_ub=dual_b)\n",
    "res_dual.x"
   ]
  },
  {
   "cell_type": "code",
   "execution_count": 18,
   "id": "d2c96bad0d21af78",
   "metadata": {
    "ExecuteTime": {
     "end_time": "2023-11-19T18:30:39.014577700Z",
     "start_time": "2023-11-19T18:30:38.980836700Z"
    },
    "collapsed": false
   },
   "outputs": [
    {
     "data": {
      "text/plain": [
       "(-1.2857142857142856, array([0., 2., 0., 2.]))"
      ]
     },
     "execution_count": 18,
     "metadata": {},
     "output_type": "execute_result"
    }
   ],
   "source": [
    "dual_coef = res_dual.x\n",
    "pi=-dual_coef\n",
    "A=np.array([[45,36,31,14]])\n",
    "b=np.array([100])\n",
    "res = linprog(c=pi,A_ub=A,b_ub=b,integrality=1)\n",
    "res.fun,res.x"
   ]
  },
  {
   "cell_type": "code",
   "execution_count": 19,
   "id": "fbbbd8f0d536157b",
   "metadata": {
    "ExecuteTime": {
     "end_time": "2023-11-19T18:30:39.015050600Z",
     "start_time": "2023-11-19T18:30:38.990545400Z"
    },
    "collapsed": false
   },
   "outputs": [
    {
     "data": {
      "text/plain": [
       "485.16666666666663"
      ]
     },
     "execution_count": 19,
     "metadata": {},
     "output_type": "execute_result"
    }
   ],
   "source": [
    "c = np.append(c,1)\n",
    "new_pattern = -res.x[:,np.newaxis]\n",
    "A_ub = np.concatenate((A_ub,new_pattern),axis=1)\n",
    "b_ub = np.array([-97,-610,-395,-211])\n",
    "res = linprog(c=c,A_ub=A_ub,b_ub=b_ub)\n",
    "res.fun"
   ]
  },
  {
   "cell_type": "code",
   "execution_count": 20,
   "id": "c03a743927054413",
   "metadata": {
    "ExecuteTime": {
     "end_time": "2023-11-19T18:30:39.015050600Z",
     "start_time": "2023-11-19T18:30:38.997506300Z"
    },
    "collapsed": false
   },
   "outputs": [],
   "source": [
    "dual_c = b_ub\n",
    "dual_b = c\n",
    "dual_A = -A_ub.T\n",
    "res_dual = linprog(c=dual_c,A_ub=dual_A,b_ub=dual_b)"
   ]
  },
  {
   "cell_type": "code",
   "execution_count": 21,
   "id": "cad42d41ef7493d8",
   "metadata": {
    "ExecuteTime": {
     "end_time": "2023-11-19T18:30:39.015050600Z",
     "start_time": "2023-11-19T18:30:39.003262Z"
    },
    "collapsed": false
   },
   "outputs": [
    {
     "data": {
      "text/plain": [
       "-485.16666666666663"
      ]
     },
     "execution_count": 21,
     "metadata": {},
     "output_type": "execute_result"
    }
   ],
   "source": [
    "res_dual.fun"
   ]
  },
  {
   "cell_type": "code",
   "execution_count": 22,
   "id": "4e50755ac49f1c5f",
   "metadata": {
    "ExecuteTime": {
     "end_time": "2023-11-19T18:30:39.032143300Z",
     "start_time": "2023-11-19T18:30:39.010577700Z"
    },
    "collapsed": false
   },
   "outputs": [],
   "source": [
    "dual_coef = res_dual.x\n",
    "\n",
    "pi=-dual_coef\n",
    "A=np.array([[45,36,31,14]])\n",
    "b=np.array([100])\n",
    "res = linprog(c=pi,A_ub=A,b_ub=b,integrality=1)"
   ]
  },
  {
   "cell_type": "code",
   "execution_count": 23,
   "id": "a99026e541d0fe07",
   "metadata": {
    "ExecuteTime": {
     "end_time": "2023-11-19T18:30:39.033142400Z",
     "start_time": "2023-11-19T18:30:39.017558500Z"
    },
    "collapsed": false
   },
   "outputs": [
    {
     "data": {
      "text/plain": [
       "(-1.1666666666666665, array([0., 1., 2., 0.]))"
      ]
     },
     "execution_count": 23,
     "metadata": {},
     "output_type": "execute_result"
    }
   ],
   "source": [
    "res.fun,res.x"
   ]
  },
  {
   "cell_type": "code",
   "execution_count": 24,
   "id": "dcbb7b4709fd6d4f",
   "metadata": {
    "ExecuteTime": {
     "end_time": "2023-11-19T18:30:39.033142400Z",
     "start_time": "2023-11-19T18:30:39.024607100Z"
    },
    "collapsed": false
   },
   "outputs": [
    {
     "data": {
      "text/plain": [
       "452.25"
      ]
     },
     "execution_count": 24,
     "metadata": {},
     "output_type": "execute_result"
    }
   ],
   "source": [
    "c = np.append(c,1)\n",
    "new_pattern = -res.x[:,np.newaxis]\n",
    "A_ub = np.concatenate((A_ub,new_pattern),axis=1)\n",
    "b_ub = np.array([-97,-610,-395,-211])\n",
    "res = linprog(c=c,A_ub=A_ub,b_ub=b_ub)\n",
    "res.fun"
   ]
  },
  {
   "cell_type": "code",
   "execution_count": 25,
   "id": "ce9a3db033f35771",
   "metadata": {
    "ExecuteTime": {
     "end_time": "2023-11-19T18:30:39.063271200Z",
     "start_time": "2023-11-19T18:30:39.032143300Z"
    },
    "collapsed": false
   },
   "outputs": [
    {
     "data": {
      "text/plain": [
       "array([ 0.5 ,  0.5 ,  0.25, -0.  ])"
      ]
     },
     "execution_count": 25,
     "metadata": {},
     "output_type": "execute_result"
    }
   ],
   "source": [
    "dual_c = b_ub\n",
    "dual_b = c\n",
    "dual_A = -A_ub.T\n",
    "res_dual = linprog(c=dual_c,A_ub=dual_A,b_ub=dual_b)\n",
    "res_dual.x"
   ]
  },
  {
   "cell_type": "code",
   "execution_count": 26,
   "id": "f3fb301326319328",
   "metadata": {
    "ExecuteTime": {
     "end_time": "2023-11-19T18:30:39.102282200Z",
     "start_time": "2023-11-19T18:30:39.041844100Z"
    },
    "collapsed": false
   },
   "outputs": [
    {
     "data": {
      "text/plain": [
       "(-1.0, array([0., 2., 0., 0.]))"
      ]
     },
     "execution_count": 26,
     "metadata": {},
     "output_type": "execute_result"
    }
   ],
   "source": [
    "dual_coef = res_dual.x\n",
    "\n",
    "c=-dual_coef\n",
    "A=np.array([[45,36,31,14]])\n",
    "b=np.array([100])\n",
    "res = linprog(c=c,A_ub=A,b_ub=b,integrality=1)\n",
    "res.fun,res.x"
   ]
  }
 ],
 "metadata": {
  "kernelspec": {
   "display_name": "Python 3",
   "language": "python",
   "name": "python3"
  },
  "language_info": {
   "codemirror_mode": {
    "name": "ipython",
    "version": 3
   },
   "file_extension": ".py",
   "mimetype": "text/x-python",
   "name": "python",
   "nbconvert_exporter": "python",
   "pygments_lexer": "ipython3",
   "version": "3.11.5"
  }
 },
 "nbformat": 4,
 "nbformat_minor": 5
}
